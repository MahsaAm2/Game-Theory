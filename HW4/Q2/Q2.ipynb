{
 "cells": [
  {
   "cell_type": "markdown",
   "id": "e784041c",
   "metadata": {},
   "source": [
    "# Introduction\n",
    "\n",
    "Strategic dominance (commonly called simply dominance) occurs when one strategy is better than another strategy for one player, no matter how that player's opponents may play. Many simple games can be solved using dominance. The opposite, intransitivity, occurs in games where one strategy may be better or worse than another strategy for one player, depending on how the player's opponents may play."
   ]
  },
  {
   "cell_type": "markdown",
   "id": "e759e678",
   "metadata": {},
   "source": [
    "# Terminology\n",
    "\n",
    "When a player tries to choose the \"best\" strategy among a multitude of options, that player may compare two strategies A and B to see which one is better. The result of the comparison is one of:\n",
    "\n",
    "- **B is equivalent to A:** choosing B always gives the same outcome as choosing A, no matter what the other players do.\n",
    "- **B strictly dominates A:** choosing B always gives a better outcome than choosing A, no matter what the other players do.\n",
    "- **B weakly dominates A:** choosing B always gives at least as good an outcome as choosing A, no matter what the other players do, and there is at least one set of opponents' action for which B gives a better outcome than A. (Notice that if B strictly dominates A, then B weakly dominates A. Therefore, we can say \"B dominates A\" as synonymous of \"B weakly dominates A\".)\n",
    "- **B and A are intransitive:** B and A are not equivalent, and B neither dominates, nor is dominated by, A. Choosing A is better in some cases, while choosing B is better in other cases, depending on exactly how the opponent chooses to play. For example, B is \"throw rock\" while A is \"throw scissors\" in Rock, Paper, Scissors.\n",
    "- **B is weakly dominated by A:** there is at least one set of opponents' actions for which B gives a worse outcome than A, while all other sets of opponents' actions give A the same payoff as B. (Strategy A weakly dominates B).\n",
    "- **B is strictly dominated by A:** choosing B always gives a worse outcome than choosing A, no matter what the other player(s) do. (Strategy A strictly dominates B).\n",
    "\n",
    "This notion can be generalized beyond the comparison of two strategies.\n",
    "\n",
    "- Strategy B is **strictly dominant** if strategy B strictly dominates every other possible strategy.\n",
    "- Strategy B is **weakly dominant** if strategy B weakly dominates every other possible strategy.\n",
    "- Strategy B is **strictly dominated** if some other strategy exists that strictly dominates B.\n",
    "- Strategy B is **weakly dominated** if some other strategy exists that weakly dominates B.\n",
    "\n",
    "**Strategy:** A complete contingent plan for a player in the game. A complete contingent plan is a full specification of a player's behavior, describing each action a player would take at every possible decision point. Because information sets represent points in a game where a player must make a decision, a player's strategy describes what that player will do at each information set.\n",
    "\n",
    "**Rationality:** The assumption that each player acts in a way that is designed to bring about what he or she most prefers given probabilities of various outcomes; von Neumann and Morgenstern showed that if these preferences satisfy certain conditions, this is mathematically equivalent to maximizing a payoff. A straightforward example of maximizing payoff is that of monetary gain, but for the purpose of a game theory analysis, this payoff can take any desired outcome. E.g., cash reward, minimization of exertion or discomfort, promoting justice, or amassing overall “utility” - the assumption of rationality states that players will always act in the way that best satisfies their ordering from best to worst of various possible outcomes.\n",
    "\n",
    "**Common Knowledge:** The assumption that each player has knowledge of the game, knows the rules and payoffs associated with each course of action, and realizes that every other player has this same level of understanding. This is the premise that allows a player to make a value judgment on the actions of another player, backed by the assumption of rationality, into consideration when selecting an action."
   ]
  },
  {
   "cell_type": "markdown",
   "id": "648d65fe",
   "metadata": {},
   "source": [
    "# Iterated elimination of strictly dominated strategies (IESDS)\n",
    "\n",
    "The iterated elimination (or deletion, or removal) of dominated strategies (also denominated as IESDS, or IDSDS, or IRSDS) is one common technique for solving games that involves iteratively removing dominated strategies. In the first step, at most one dominated strategy is removed from the strategy space of each of the players since no rational player would ever play these strategies. This results in a new, smaller game. Some strategies—that were not dominated before—may be dominated in the smaller game. The first step is repeated, creating a new even smaller game, and so on. The process stops when no dominated strategy is found for any player. This process is valid since it is assumed that rationality among players is common knowledge, that is, each player knows that the rest of the players are rational, and each player knows that the rest of the players know that he knows that the rest of the players are rational, and so on ad infinitum.  \n",
    "  \n",
    "There are two versions of this process. One version involves only eliminating strictly dominated strategies. If, after completing this process, there is only one strategy for each player remaining, that strategy set is the unique Nash equilibrium. Moreover, iterated elimination of strictly dominated strategies is path independent. That is, if at any point in the process there are multiple strictly dominated strategies, then it doesn't matter for the end result which strategies we remove first.  \n",
    "  \n",
    "Another version involves eliminating both strictly and weakly dominated strategies. If, at the end of the process, there is a single strategy for each player, this strategy set is also a Nash equilibrium. However, unlike the first process, elimination of weakly dominated strategies may eliminate some Nash equilibria. As a result, the Nash equilibrium found by eliminating weakly dominated strategies may not be the only Nash equilibrium. (In some games, if we remove weakly dominated strategies in a different order, we may end up with a different Nash equilibrium.)  \n",
    "  \n",
    "In any case, if by iterated elimination of dominated strategies there is only one strategy left for each player, the game is called a dominance-solvable game."
   ]
  },
  {
   "cell_type": "markdown",
   "id": "be082333",
   "metadata": {},
   "source": [
    "# Implementation\n",
    "\n",
    "In this notebook, you will be tasked with implementing Iterative Elimination of Strictly Dominated Strategies (IESDS) for an $n$-players game presented as an $n$-dimensional NumPy array. Each entry in the array is a tuple with $n$ elements, where the $i$th element represents the outcome for the $i$th player.\n",
    "\n",
    "The shape of the game matrix is $(m_1, m_2, ..., m_n)$, with $m_i$ denoting the total number of strategies available to the $i$th player.  \n",
    "  \n",
    "You need to provide the process of elimination for each player identifying which strategy is dominated by which one, and then list the remaining strategies after completing the IESDS process. Please refer to the sample outputs for a clearer understanding."
   ]
  },
  {
   "cell_type": "code",
   "execution_count": 1,
   "id": "11056a8e",
   "metadata": {},
   "outputs": [],
   "source": [
    "import numpy as np"
   ]
  },
  {
   "cell_type": "markdown",
   "id": "353c80d8",
   "metadata": {},
   "source": [
    "First, let's implement the algorithm for 2-players game.  "
   ]
  },
  {
   "cell_type": "code",
   "execution_count": 2,
   "id": "ca9af571",
   "metadata": {},
   "outputs": [],
   "source": [
    "def iesds_2player(game_matrix: np.array) -> dict:\n",
    "    \"\"\"\n",
    "    Implements IESDS for 2-players game.\n",
    "    \n",
    "    Arguments:\n",
    "    game_matrix -- the game matrix includes the outcome of each strategy, of shape (m_1, m_2, 2),\n",
    "                   where m_1 is the number of strategies for the first player and m_2 is for the\n",
    "                   second player.\n",
    "    \n",
    "    Returns:\n",
    "    final_strategies -- a dictionary in which each key (0, 1) represents the number of players,\n",
    "                        and its value refers to the list of dominating strategies.\n",
    "    \"\"\"\n",
    "    # YOUR CODE HERE\n",
    "    remove_list_p1 = []\n",
    "    p1_d=[]\n",
    "\n",
    "    remove_list_p2 = []\n",
    "    p2_d=[]\n",
    "    final_strategies = {}\n",
    "    c = 0\n",
    "    temp = (game_matrix.shape[0]*game_matrix.shape[0])+(game_matrix.shape[1]*game_matrix.shape[1])\n",
    "    while (c < temp):\n",
    "\n",
    "        for i in range(0,game_matrix.shape[0]):\n",
    "            for j in range(0, game_matrix.shape[0]):\n",
    "                counter = 0\n",
    "                for z in range(0, game_matrix.shape[1]):\n",
    "                    if(z not in remove_list_p2 ):\n",
    "                        if(game_matrix[i,z,0] > game_matrix[j,z,0]):\n",
    "                            counter +=1   \n",
    "                if (counter==game_matrix.shape[1]-len(remove_list_p2) and j not in remove_list_p1 and i not in remove_list_p1):\n",
    "\n",
    "                    remove_list_p1.append(j)\n",
    "                    p1_d.append(i)\n",
    "                    final_strategies.update({0:[i]})\n",
    "                    print('Player 0: Strategy {} dominated by strategy {}'.format(j,i))\n",
    "\n",
    "\n",
    "\n",
    "\n",
    "        for i in range(0,game_matrix.shape[1]):\n",
    "            for j in range(0, game_matrix.shape[1]):\n",
    "                counter = 0\n",
    "                for z in range(0, game_matrix.shape[0]):\n",
    "                    if (z not in remove_list_p1):\n",
    "                        if(game_matrix[z,i,1] > game_matrix[z,j,1]):\n",
    "                            counter +=1   \n",
    "                if (counter==game_matrix.shape[0]-len(remove_list_p1) and j not in remove_list_p2 and i not in remove_list_p2):\n",
    "\n",
    "                    remove_list_p2.append(j)\n",
    "                    p2_d.append(i)\n",
    "                    final_strategies.update({1:[i]})\n",
    "                    print('Player 1: Strategy {} dominated by strategy {}'.format(j,i))\n",
    "\n",
    "\n",
    "\n",
    "        c = c+1\n",
    "\n",
    "   \n",
    "\n",
    "    \n",
    "    \n",
    "    return final_strategies"
   ]
  },
  {
   "cell_type": "code",
   "execution_count": 3,
   "id": "20341111",
   "metadata": {},
   "outputs": [],
   "source": [
    "sample_1 = np.array([\n",
    "    [(4,-1), (3,0), (-3,1), (-1,4), (-2,0)],\n",
    "    [(-1,1), (2,2), (2,3), (-1,0), (2,5)],\n",
    "    [(2,1), (-1,-1), (0,4), (4,-1), (0,2)],\n",
    "    [(1,6), (-3,0), (-1,4), (1,1), (-1,4)],\n",
    "    [(0,0), (1,4), (-3,1), (-2,3), (-1,-1)],\n",
    "])\n",
    "\n",
    "#iesds_2player(sample_1)"
   ]
  },
  {
   "cell_type": "code",
   "execution_count": 4,
   "id": "cd871b12",
   "metadata": {},
   "outputs": [
    {
     "name": "stdout",
     "output_type": "stream",
     "text": [
      "Player 0: Strategy 3 dominated by strategy 2\n",
      "Player 1: Strategy 0 dominated by strategy 2\n",
      "Player 0: Strategy 4 dominated by strategy 1\n",
      "Player 1: Strategy 1 dominated by strategy 2\n",
      "Player 0: Strategy 0 dominated by strategy 2\n",
      "Player 1: Strategy 3 dominated by strategy 2\n",
      "Player 0: Strategy 2 dominated by strategy 1\n",
      "Player 1: Strategy 2 dominated by strategy 4\n"
     ]
    }
   ],
   "source": [
    "final_strategies = iesds_2player(sample_1)"
   ]
  },
  {
   "cell_type": "markdown",
   "id": "7837e3d3",
   "metadata": {},
   "source": [
    "The output should be like this:\n",
    "\n",
    "```\n",
    "Player 0: Strategy 3 dominated by strategy 2\n",
    "Player 1: Strategy 0 dominated by strategy 2\n",
    "Player 0: Strategy 4 dominated by strategy 1\n",
    "Player 1: Strategy 1 dominated by strategy 2\n",
    "Player 0: Strategy 0 dominated by strategy 2\n",
    "Player 1: Strategy 3 dominated by strategy 2\n",
    "Player 0: Strategy 2 dominated by strategy 1\n",
    "Player 1: Strategy 2 dominated by strategy 4\n",
    "{0: [1], 1: [4]}\n",
    "```"
   ]
  },
  {
   "cell_type": "markdown",
   "id": "890c76bf",
   "metadata": {},
   "source": [
    "Now, for $n$-players game:"
   ]
  },
  {
   "cell_type": "code",
   "execution_count": 7,
   "id": "6eadcc8d",
   "metadata": {},
   "outputs": [],
   "source": [
    "def iesds(game_matrix: np.array) -> dict:\n",
    "    \"\"\"\n",
    "    Implements IESDS for n-players game.\n",
    "    \n",
    "    Arguments:\n",
    "    game_matrix -- the game matrix includes the outcome of each strategy, of shape\n",
    "                   (m_1, m_2, ..., m_n, n), where m_1 is the number of strategies for the first\n",
    "                   player, m_2 for the second player, and so on.\n",
    "    \n",
    "    Returns:\n",
    "    final_strategies -- a dictionary in which each key (0, 1, ..., n-1) represents the number of\n",
    "                        players, and its value refers to the list of dominating strategies.\n",
    "    \"\"\"\n",
    "    \n",
    "    final_strategies = {}\n",
    "    # YOUR CODE HERE\n",
    "    remove_list1 = []\n",
    "    remove_list_p1 = []\n",
    "    p1_d=[]\n",
    "    remove_list_p2 = []\n",
    "    p2_d=[]\n",
    "    if (game_matrix.shape[-1]==2):\n",
    "        final_strategies= iesds_2player(game_matrix)\n",
    "    else:\n",
    "\n",
    "        for t in range (0, game_matrix.shape[-1]-2):\n",
    "\n",
    "            for p in range(0,game_matrix.shape[t]):\n",
    "                for q in range (0, game_matrix.shape[t]):\n",
    "                    x1 = game_matrix[...,t][p]\n",
    "                    x2 = game_matrix[...,t][q]\n",
    "                    cnt = 0\n",
    "                    cmp = game_matrix.shape[-3]* game_matrix.shape[-2]\n",
    "                    for m in range(game_matrix.shape[-3]):\n",
    "                        for n in range(game_matrix.shape[-2]):\n",
    "                            #print(x1[m,n], x2[m,n])\n",
    "                            if (x1[m,n]> x2[m,n]):\n",
    "                                cnt = cnt +1\n",
    "                                \n",
    "                    if (cnt == cmp and q not in remove_list1 ):\n",
    "                        remove_list1.append(q)\n",
    "                        print('Player {} : Strategy {} dominated by strategy {}'.format(t,q,p))\n",
    "                        final_strategies.update({t:[p]})\n",
    "                        \n",
    "        remove_list1 = []\n",
    "        remove_list_p1 = []\n",
    "        p1_d=[]\n",
    "        remove_list_p2 = []\n",
    "        p2_d=[]\n",
    "        c = 0\n",
    "        flag = 0\n",
    "        temp = (game_matrix.shape[-2]*game_matrix.shape[-2])+(game_matrix.shape[-3]*game_matrix.shape[-3])\n",
    "        while c < temp:\n",
    "            for b in range(0, game_matrix.shape[0]):\n",
    "                for i in range (0,game_matrix.shape[-3]):\n",
    "                    for j in range (0,game_matrix.shape[-3]):\n",
    "                        counter = 0\n",
    "                        for z in range (0,game_matrix.shape[-2]):\n",
    "                            if z not in remove_list_p2 and b not in remove_list1:\n",
    "                                if (game_matrix[...,b,i,z,1] > game_matrix[...,b,j,z,1]):\n",
    "                                    counter= counter+1\n",
    "\n",
    "\n",
    "                        if (counter==game_matrix.shape[-2]-len(remove_list_p2) and j not in remove_list_p1 and i not in remove_list_p1):\n",
    "\n",
    "                                remove_list_p1.append(j)\n",
    "                                p1_d.append(i)\n",
    "                                print('Player {} : Strategy {} dominated by strategy {}'.format(game_matrix.shape[-1]-2,j,i))\n",
    "                                final_strategies.update({game_matrix.shape[-1]-2:[i]})\n",
    "\n",
    "\n",
    "                for i in range (0,game_matrix.shape[-2]):\n",
    "                    for j in range (0,game_matrix.shape[-2]):\n",
    "                        counter = 0\n",
    "                        for z in range (0,game_matrix.shape[-3]):\n",
    "                            if z not in remove_list_p1 and b not in remove_list1:\n",
    "\n",
    "                                if (game_matrix[...,b,z,i,2] > game_matrix[...,b,z,j,2]):\n",
    "\n",
    "                                    counter= counter+1\n",
    "\n",
    "\n",
    "\n",
    "\n",
    "                        if (counter==game_matrix.shape[-3]-len(remove_list_p1) and j not in remove_list_p2 and i not in remove_list_p2):\n",
    "\n",
    "                                remove_list_p2.append(j)\n",
    "                                p2_d.append(i)\n",
    "                                print('Player {} : Strategy {} dominated by strategy {}'.format(game_matrix.shape[-1]-1,j,i))\n",
    "                                final_strategies.update({game_matrix.shape[-1]-1:[i]})\n",
    "            c = c+ 1\n",
    "   \n",
    "  \n",
    "    return final_strategies"
   ]
  },
  {
   "cell_type": "code",
   "execution_count": 8,
   "id": "c63b8c88",
   "metadata": {},
   "outputs": [
    {
     "name": "stdout",
     "output_type": "stream",
     "text": [
      "Player 0 : Strategy 1 dominated by strategy 0\n",
      "Player 1 : Strategy 2 dominated by strategy 0\n",
      "Player 2 : Strategy 0 dominated by strategy 1\n",
      "Player 1 : Strategy 0 dominated by strategy 1\n"
     ]
    },
    {
     "data": {
      "text/plain": [
       "{0: [0], 1: [1], 2: [1]}"
      ]
     },
     "execution_count": 8,
     "metadata": {},
     "output_type": "execute_result"
    }
   ],
   "source": [
    "sample_2 = np.array([\n",
    "    [\n",
    "        [(3,2,1), (2,1,2)],\n",
    "        [(2,2,0), (1,2,1)],\n",
    "        [(3,1,2), (1,0,2)],\n",
    "    ],\n",
    "    [\n",
    "        [(1,1,2), (-1,0,1)],\n",
    "        [(1,2,0), (0,0,2)],\n",
    "        [(0,2,3), (0,2,2)],\n",
    "    ],\n",
    "])\n",
    "iesds(sample_2)"
   ]
  },
  {
   "cell_type": "markdown",
   "id": "38159c7a",
   "metadata": {},
   "source": [
    "The output should be like this:\n",
    "```\n",
    "Player 0: Strategy 1 dominated by strategy 0\n",
    "Player 1: Strategy 2 dominated by strategy 0\n",
    "Player 2: Strategy 0 dominated by strategy 1\n",
    "Player 1: Strategy 0 dominated by strategy 1\n",
    "{0: [0], 1: [1], 2: [1]}\n",
    "```"
   ]
  }
 ],
 "metadata": {
  "kernelspec": {
   "display_name": "Python 3 (ipykernel)",
   "language": "python",
   "name": "python3"
  },
  "language_info": {
   "codemirror_mode": {
    "name": "ipython",
    "version": 3
   },
   "file_extension": ".py",
   "mimetype": "text/x-python",
   "name": "python",
   "nbconvert_exporter": "python",
   "pygments_lexer": "ipython3",
   "version": "3.9.7"
  }
 },
 "nbformat": 4,
 "nbformat_minor": 5
}
