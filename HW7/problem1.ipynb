{
 "cells": [
  {
   "cell_type": "markdown",
   "id": "f8c4d0c7",
   "metadata": {},
   "source": [
    "## HW7 P1\n",
    "### mahsa amini 9817823"
   ]
  },
  {
   "cell_type": "code",
   "execution_count": 1,
   "id": "2fd8df89",
   "metadata": {},
   "outputs": [],
   "source": [
    "import numpy as np"
   ]
  },
  {
   "cell_type": "markdown",
   "id": "257f57e2",
   "metadata": {},
   "source": [
    "### sample"
   ]
  },
  {
   "cell_type": "code",
   "execution_count": 2,
   "id": "ae0ed8e9",
   "metadata": {},
   "outputs": [],
   "source": [
    "boys_pref = np.array([[1,2,4,3], [1,2,3,4], [3,1,2,4], [2,3,1,4]])"
   ]
  },
  {
   "cell_type": "code",
   "execution_count": 3,
   "id": "36173e2e",
   "metadata": {},
   "outputs": [],
   "source": [
    "girls_pref = np.array([[3,4,1,2], [2,3,4,1], [1,2,3,4], [3,4,2,1]])"
   ]
  },
  {
   "cell_type": "code",
   "execution_count": 4,
   "id": "59acce8a",
   "metadata": {},
   "outputs": [
    {
     "data": {
      "text/plain": [
       "array([[1, 2, 4, 3],\n",
       "       [1, 2, 3, 4],\n",
       "       [3, 1, 2, 4],\n",
       "       [2, 3, 1, 4]])"
      ]
     },
     "execution_count": 4,
     "metadata": {},
     "output_type": "execute_result"
    }
   ],
   "source": [
    "boys_pref"
   ]
  },
  {
   "cell_type": "code",
   "execution_count": 5,
   "id": "825aa348",
   "metadata": {},
   "outputs": [
    {
     "data": {
      "text/plain": [
       "array([[3, 4, 1, 2],\n",
       "       [2, 3, 4, 1],\n",
       "       [1, 2, 3, 4],\n",
       "       [3, 4, 2, 1]])"
      ]
     },
     "execution_count": 5,
     "metadata": {},
     "output_type": "execute_result"
    }
   ],
   "source": [
    "girls_pref"
   ]
  },
  {
   "cell_type": "code",
   "execution_count": 6,
   "id": "5689de28",
   "metadata": {},
   "outputs": [],
   "source": [
    "def checking_preference(girl1, girl2, boy_num, boy_pref):\n",
    "    for i in range(0,boy_pref.shape[1]):\n",
    "        if boy_pref[boy_num-1,i]==girl1:\n",
    "            girl1_rank= i\n",
    "        if boy_pref[boy_num-1,i]==girl2:\n",
    "            girl2_rank= i\n",
    "\n",
    "    if girl1_rank < girl2_rank:\n",
    "        res =1\n",
    "    else:\n",
    "        res = 0\n",
    "        \n",
    "    return res"
   ]
  },
  {
   "cell_type": "code",
   "execution_count": 7,
   "id": "c836eae5",
   "metadata": {},
   "outputs": [],
   "source": [
    "def stable_marriage(boys_pref, girls_pref):\n",
    "    \n",
    "    num = girls_pref.shape[0]\n",
    "    proposed = np.zeros(num)\n",
    "    engaged = np.zeros(num)\n",
    "    \n",
    "    for i in range(0, num):\n",
    "        engaged[i] = -1\n",
    "        \n",
    "    while (1) : \n",
    "        count = 0\n",
    "        for i in range(0,num):\n",
    "            if(proposed[i]==1):\n",
    "                count+=1\n",
    "        if(count == num):\n",
    "            return engaged\n",
    "        for i in range(0, num):\n",
    "            if proposed[i]!=1:\n",
    "                for j in range(0, girls_pref.shape[1]):\n",
    "                    if proposed[i]!=1:\n",
    "                        g_pref = girls_pref[i,j]\n",
    "                        if engaged[g_pref-1]==-1:\n",
    "                            engaged[g_pref-1]=i+1\n",
    "                            proposed[i] = 1\n",
    "                        else:\n",
    "                            check= checking_preference(i+1, engaged[g_pref-1], g_pref,boys_pref)\n",
    "                            if (check):\n",
    "                                prev = engaged[g_pref-1]\n",
    "                                engaged[g_pref-1]=i+1\n",
    "                                proposed[i]=1\n",
    "                                temp = int(prev - 1)\n",
    "                               \n",
    "                                proposed[temp] = 0\n",
    "                                \n",
    "     \n",
    "    \n",
    "    return engaged\n",
    "        "
   ]
  },
  {
   "cell_type": "code",
   "execution_count": 8,
   "id": "e38aeefd",
   "metadata": {},
   "outputs": [
    {
     "data": {
      "text/plain": [
       "array([3., 2., 1., 4.])"
      ]
     },
     "execution_count": 8,
     "metadata": {},
     "output_type": "execute_result"
    }
   ],
   "source": [
    "stable_marriage(boys_pref, girls_pref)"
   ]
  },
  {
   "cell_type": "code",
   "execution_count": null,
   "id": "dc8442c8",
   "metadata": {},
   "outputs": [],
   "source": []
  }
 ],
 "metadata": {
  "kernelspec": {
   "display_name": "Python 3 (ipykernel)",
   "language": "python",
   "name": "python3"
  },
  "language_info": {
   "codemirror_mode": {
    "name": "ipython",
    "version": 3
   },
   "file_extension": ".py",
   "mimetype": "text/x-python",
   "name": "python",
   "nbconvert_exporter": "python",
   "pygments_lexer": "ipython3",
   "version": "3.9.7"
  }
 },
 "nbformat": 4,
 "nbformat_minor": 5
}
